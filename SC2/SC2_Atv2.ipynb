{
  "nbformat": 4,
  "nbformat_minor": 0,
  "metadata": {
    "colab": {
      "provenance": []
    },
    "kernelspec": {
      "name": "python3",
      "display_name": "Python 3"
    },
    "language_info": {
      "name": "python"
    }
  },
  "cells": [
    {
      "cell_type": "code",
      "execution_count": null,
      "metadata": {
        "id": "BoHw7r2PDSQM"
      },
      "outputs": [],
      "source": [
        "!pip install control"
      ]
    },
    {
      "cell_type": "code",
      "source": [
        "import numpy as np\n",
        "import matplotlib.pyplot as plt\n",
        "import control\n",
        "import warnings\n",
        "warnings.filterwarnings(\"ignore\")\n",
        "import math"
      ],
      "metadata": {
        "id": "tvUDFDnkDZ6M"
      },
      "execution_count": null,
      "outputs": []
    },
    {
      "cell_type": "code",
      "source": [
        "A = np.array([[-1/2, 0, -1/2], [0, 0, -1/2], [1, 1, 0]]) # C=1, R=1, L=2\n",
        "B = np.array([[0], [1/2], [0]]) # segunda saída do sistema da atividade anterior\n",
        "C = np.array([[0, 0, 1]])\n",
        "D = np.array([0])\n",
        "\n",
        "P = np.array([-3+1j*math.sqrt(3), -3-1j*math.sqrt(3), -1, -1]) #Polos"
      ],
      "metadata": {
        "id": "BnfOnQVYDVZS"
      },
      "execution_count": null,
      "outputs": []
    },
    {
      "cell_type": "code",
      "source": [
        "N = A.shape[0]+1\n",
        "N"
      ],
      "metadata": {
        "colab": {
          "base_uri": "https://localhost:8080/"
        },
        "id": "CQoyjKUEnhJ6",
        "outputId": "49512438-3353-4925-d032-c7c1a799e37a"
      },
      "execution_count": null,
      "outputs": [
        {
          "output_type": "execute_result",
          "data": {
            "text/plain": [
              "4"
            ]
          },
          "metadata": {},
          "execution_count": 100
        }
      ]
    },
    {
      "cell_type": "markdown",
      "source": [
        "![Screenshot_1.png](data:image/png;base64,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)"
      ],
      "metadata": {
        "id": "cueJGvdk0A5i"
      }
    },
    {
      "cell_type": "markdown",
      "source": [
        "Precisamos calcular as matrizes $\\hat{A}$ e $\\hat{B}$, portanto utilizamos as matrizes $A$ e $B$ da atividade anterior utilizando a entrada Vb da atividade anterior e obtemos as matrizes do seguinte modo:\n",
        "\n",
        "\\begin{align}\n",
        "  \\hat{A} =\n",
        "  \\begin{bmatrix}\n",
        "    A&0\\\\\n",
        "    -C&0\\\\\n",
        "    \\end{bmatrix}\n",
        "\\end{align}\n",
        "\n",
        "\\begin{align}\n",
        "  \\hat{B} =\n",
        "  \\begin{bmatrix}\n",
        "    B\\\\\n",
        "    0\\\\\n",
        "    \\end{bmatrix}\n",
        "\\end{align}"
      ],
      "metadata": {
        "id": "hSm5IavdA36M"
      }
    },
    {
      "cell_type": "code",
      "source": [
        "A_c = np.c_[np.r_[A, -C], np.zeros(N)]#Calculando a Matriz A_^\n",
        "A_c"
      ],
      "metadata": {
        "colab": {
          "base_uri": "https://localhost:8080/"
        },
        "id": "h7c2aBqGPv1u",
        "outputId": "fb84e5cb-dd6c-4e80-e5f5-63a8ca80b0f9"
      },
      "execution_count": null,
      "outputs": [
        {
          "output_type": "execute_result",
          "data": {
            "text/plain": [
              "array([[-0.5,  0. , -0.5,  0. ],\n",
              "       [ 0. ,  0. , -0.5,  0. ],\n",
              "       [ 1. ,  1. ,  0. ,  0. ],\n",
              "       [ 0. ,  0. , -1. ,  0. ]])"
            ]
          },
          "metadata": {},
          "execution_count": 101
        }
      ]
    },
    {
      "cell_type": "code",
      "source": [
        "B_c = np.r_[B, np.array([[0]])] #Calculando a Matriz B_^\n",
        "B_c"
      ],
      "metadata": {
        "colab": {
          "base_uri": "https://localhost:8080/"
        },
        "id": "_lBlVSUaPg_Z",
        "outputId": "aca7fb8b-5f1d-428c-e30e-8790f6ba6961"
      },
      "execution_count": null,
      "outputs": [
        {
          "output_type": "execute_result",
          "data": {
            "text/plain": [
              "array([[0. ],\n",
              "       [0.5],\n",
              "       [0. ],\n",
              "       [0. ]])"
            ]
          },
          "metadata": {},
          "execution_count": 102
        }
      ]
    },
    {
      "cell_type": "markdown",
      "source": [
        "Então, a partir das matrizes $\\hat{A}$ e $\\hat{B}$, e por meio da função Acker obtemos o vetor de ganho $\\hat{K}$."
      ],
      "metadata": {
        "id": "Z9YrXTy4DgvH"
      }
    },
    {
      "cell_type": "code",
      "source": [
        "K_c = control.acker(A_c, B_c, P) #Calculando o vetor de ganho K_^\n",
        "K_c = np.array(K_c)\n",
        "K_c"
      ],
      "metadata": {
        "colab": {
          "base_uri": "https://localhost:8080/"
        },
        "id": "3Uu3dBq4OheL",
        "outputId": "3adaafc4-a534-41d0-e55d-858b011c214a"
      },
      "execution_count": null,
      "outputs": [
        {
          "output_type": "execute_result",
          "data": {
            "text/plain": [
              "array([[ 32.5,  15. ,  40.5, -48. ]])"
            ]
          },
          "metadata": {},
          "execution_count": 103
        }
      ]
    },
    {
      "cell_type": "markdown",
      "source": [
        "Sabendo que $\\hat{K}$ é: $\\hat{K} = [K | -k_{I}]$ separando o vetor $K$ e o ganho do integrador $k_{I}$, temos:"
      ],
      "metadata": {
        "id": "Uy-BViVqFkJD"
      }
    },
    {
      "cell_type": "code",
      "source": [
        "K = np.array([K_c[0][:N-1]]) #Separando vetor de ganho K\n",
        "print(K)\n",
        "\n",
        "Ki = -1*np.array(K_c)[0][N-1] #Constante de ganho K_i\n",
        "print(Ki)"
      ],
      "metadata": {
        "id": "-0c91R9SDs_6",
        "colab": {
          "base_uri": "https://localhost:8080/"
        },
        "outputId": "fcff4fb1-92a7-416b-8fde-155e71cd5a82"
      },
      "execution_count": null,
      "outputs": [
        {
          "output_type": "stream",
          "name": "stdout",
          "text": [
            "[[32.5 15.  40.5]]\n",
            "48.0\n"
          ]
        }
      ]
    },
    {
      "cell_type": "code",
      "source": [
        "A-B@K # Observando a matriz..."
      ],
      "metadata": {
        "colab": {
          "base_uri": "https://localhost:8080/"
        },
        "id": "jysoS6xrohlp",
        "outputId": "73ee90ab-7312-4651-8420-0e85183176c7"
      },
      "execution_count": null,
      "outputs": [
        {
          "output_type": "execute_result",
          "data": {
            "text/plain": [
              "array([[ -0.5 ,   0.  ,  -0.5 ],\n",
              "       [-16.25,  -7.5 , -20.75],\n",
              "       [  1.  ,   1.  ,   0.  ]])"
            ]
          },
          "metadata": {},
          "execution_count": 105
        }
      ]
    },
    {
      "cell_type": "markdown",
      "source": [
        "Calculando agora as matrizes $AA$, $BB$, $CC$ e $DD$ como demonstrado abaixo:\n",
        "\n",
        "\\begin{align}\n",
        "  AA =\n",
        "  \\begin{bmatrix}\n",
        "    A-BK&Bk_{I}\\\\\n",
        "    -C&0\\\\\n",
        "    \\end{bmatrix}\n",
        "\\end{align}\n",
        "\n",
        "\\begin{align}\n",
        "  BB =\n",
        "  \\begin{bmatrix}\n",
        "    0\\\\\n",
        "    1\\\\\n",
        "    \\end{bmatrix}\n",
        "\\end{align}\n",
        "\n",
        "\\begin{align}\n",
        "  CC =\n",
        "  \\begin{bmatrix}\n",
        "    C&0\\\\\n",
        "    \\end{bmatrix}\n",
        "\\end{align}\n",
        "\n",
        "\\begin{align}\n",
        "  DD =\n",
        "  \\begin{bmatrix}\n",
        "    0\\\\\n",
        "    \\end{bmatrix}\n",
        "\\end{align}"
      ],
      "metadata": {
        "id": "r8OAqxTFJdY1"
      }
    },
    {
      "cell_type": "code",
      "source": [
        "Aa = np.c_[np.r_[A-B@K, -C], np.r_[B*Ki, np.array([[0]])]] #Calculando AA\n",
        "Bb = np.r_[np.zeros(( B.shape[0], 1 )), np.array([[1]])] #Calculando BB\n",
        "Cc = np.c_[C, np.array([[0]])] #Calculando CC\n",
        "Dd = np.array([[0]]) #Calculando DD"
      ],
      "metadata": {
        "id": "rVinFUxoFc6B"
      },
      "execution_count": null,
      "outputs": []
    },
    {
      "cell_type": "markdown",
      "source": [
        "Transformando as matrizes em um sistema para aplicar a resposta ao degrau e obtermos o gráfico"
      ],
      "metadata": {
        "id": "XZ4EO8B7J5C_"
      }
    },
    {
      "cell_type": "code",
      "source": [
        "system = control.StateSpace(Aa, Bb, Cc, Dd)\n",
        "x, y = control.step_response(system, np.linspace(0,20,100)) #Resposta ao degrau\n",
        "\n",
        "plt.figure(figsize=(15, 6), facecolor = \"silver\")\n",
        "plt.grid() #plotando\n",
        "plt.plot(x, y)"
      ],
      "metadata": {
        "id": "VSzaeJcPJ3eP",
        "colab": {
          "base_uri": "https://localhost:8080/",
          "height": 391
        },
        "outputId": "b6d22d5b-ae41-41f1-e1e5-b20e1e2a29b5"
      },
      "execution_count": null,
      "outputs": [
        {
          "output_type": "execute_result",
          "data": {
            "text/plain": [
              "[<matplotlib.lines.Line2D at 0x7f3d22dbb910>]"
            ]
          },
          "metadata": {},
          "execution_count": 107
        },
        {
          "output_type": "display_data",
          "data": {
            "text/plain": [
              "<Figure size 1080x432 with 1 Axes>"
            ],
            "image/png": "[encoded data removed]"
          },
          "metadata": {}
        }
      ]
    }
  ]
}