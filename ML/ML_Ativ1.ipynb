{
  "nbformat": 4,
  "nbformat_minor": 0,
  "metadata": {
    "colab": {
      "provenance": []
    },
    "kernelspec": {
      "name": "python3",
      "display_name": "Python 3"
    },
    "language_info": {
      "name": "python"
    }
  },
  "cells": [
    {
      "cell_type": "markdown",
      "metadata": {
        "id": "5TR8qTWwW1qn"
      },
      "source": [
        "Discentes:\n",
        "- Elias Nogueira\n",
        "- Derek \n",
        "- João Pedro Nunes"
      ]
    },
    {
      "cell_type": "code",
      "metadata": {
        "colab": {
          "base_uri": "https://localhost:8080/"
        },
        "id": "iqmdg_sSCSTB",
        "outputId": "22f8a60d-bef6-433b-cb4c-291b208a3d68"
      },
      "source": [
        "#!/usr/bin/env python3\n",
        "# -*- coding: utf-8 -*-\n",
        "\"\"\"\n",
        "Atividade para trabalhar o pré-processamento dos dados.\n",
        "\n",
        "Criação de modelo preditivo para diabetes e envio para verificação de peformance\n",
        "no servidor.\n",
        "\n",
        "@author: Aydano Machado <aydano.machado@gmail.com>\n",
        "\"\"\"\n",
        "\n",
        "import pandas as pd\n",
        "import numpy as np\n",
        "from sklearn.neighbors import KNeighborsClassifier\n",
        "import seaborn as sns\n",
        "import matplotlib.pyplot as plt\n",
        "import requests\n",
        "\n",
        "print('\\n - Lendo o arquivo com o dataset sobre diabetes')\n",
        "data = pd.read_csv('diabetes_dataset.csv')"
      ],
      "execution_count": null,
      "outputs": [
        {
          "output_type": "stream",
          "name": "stdout",
          "text": [
            "\n",
            " - Lendo o arquivo com o dataset sobre diabetes\n"
          ]
        }
      ]
    },
    {
      "cell_type": "code",
      "metadata": {
        "colab": {
          "base_uri": "https://localhost:8080/",
          "height": 419
        },
        "id": "O4Q7zV_UDD5P",
        "outputId": "90c590de-6603-4060-962a-1bd551f7fed4"
      },
      "source": [
        "data"
      ],
      "execution_count": null,
      "outputs": [
        {
          "output_type": "execute_result",
          "data": {
            "text/html": [
              "<div>\n",
              "<style scoped>\n",
              "    .dataframe tbody tr th:only-of-type {\n",
              "        vertical-align: middle;\n",
              "    }\n",
              "\n",
              "    .dataframe tbody tr th {\n",
              "        vertical-align: top;\n",
              "    }\n",
              "\n",
              "    .dataframe thead th {\n",
              "        text-align: right;\n",
              "    }\n",
              "</style>\n",
              "<table border=\"1\" class=\"dataframe\">\n",
              "  <thead>\n",
              "    <tr style=\"text-align: right;\">\n",
              "      <th></th>\n",
              "      <th>Pregnancies</th>\n",
              "      <th>Glucose</th>\n",
              "      <th>BloodPressure</th>\n",
              "      <th>SkinThickness</th>\n",
              "      <th>Insulin</th>\n",
              "      <th>BMI</th>\n",
              "      <th>DiabetesPedigreeFunction</th>\n",
              "      <th>Age</th>\n",
              "      <th>Outcome</th>\n",
              "    </tr>\n",
              "  </thead>\n",
              "  <tbody>\n",
              "    <tr>\n",
              "      <th>0</th>\n",
              "      <td>6</td>\n",
              "      <td>148.0</td>\n",
              "      <td>72.0</td>\n",
              "      <td>35.0</td>\n",
              "      <td>NaN</td>\n",
              "      <td>33.6</td>\n",
              "      <td>0.627</td>\n",
              "      <td>50</td>\n",
              "      <td>1</td>\n",
              "    </tr>\n",
              "    <tr>\n",
              "      <th>1</th>\n",
              "      <td>1</td>\n",
              "      <td>85.0</td>\n",
              "      <td>66.0</td>\n",
              "      <td>29.0</td>\n",
              "      <td>NaN</td>\n",
              "      <td>26.6</td>\n",
              "      <td>0.351</td>\n",
              "      <td>31</td>\n",
              "      <td>0</td>\n",
              "    </tr>\n",
              "    <tr>\n",
              "      <th>2</th>\n",
              "      <td>8</td>\n",
              "      <td>183.0</td>\n",
              "      <td>64.0</td>\n",
              "      <td>NaN</td>\n",
              "      <td>NaN</td>\n",
              "      <td>23.3</td>\n",
              "      <td>0.672</td>\n",
              "      <td>32</td>\n",
              "      <td>1</td>\n",
              "    </tr>\n",
              "    <tr>\n",
              "      <th>3</th>\n",
              "      <td>0</td>\n",
              "      <td>137.0</td>\n",
              "      <td>40.0</td>\n",
              "      <td>35.0</td>\n",
              "      <td>168.0</td>\n",
              "      <td>43.1</td>\n",
              "      <td>2.288</td>\n",
              "      <td>33</td>\n",
              "      <td>1</td>\n",
              "    </tr>\n",
              "    <tr>\n",
              "      <th>4</th>\n",
              "      <td>5</td>\n",
              "      <td>116.0</td>\n",
              "      <td>74.0</td>\n",
              "      <td>NaN</td>\n",
              "      <td>NaN</td>\n",
              "      <td>25.6</td>\n",
              "      <td>0.201</td>\n",
              "      <td>30</td>\n",
              "      <td>0</td>\n",
              "    </tr>\n",
              "    <tr>\n",
              "      <th>...</th>\n",
              "      <td>...</td>\n",
              "      <td>...</td>\n",
              "      <td>...</td>\n",
              "      <td>...</td>\n",
              "      <td>...</td>\n",
              "      <td>...</td>\n",
              "      <td>...</td>\n",
              "      <td>...</td>\n",
              "      <td>...</td>\n",
              "    </tr>\n",
              "    <tr>\n",
              "      <th>567</th>\n",
              "      <td>9</td>\n",
              "      <td>89.0</td>\n",
              "      <td>62.0</td>\n",
              "      <td>NaN</td>\n",
              "      <td>NaN</td>\n",
              "      <td>22.5</td>\n",
              "      <td>0.142</td>\n",
              "      <td>33</td>\n",
              "      <td>0</td>\n",
              "    </tr>\n",
              "    <tr>\n",
              "      <th>568</th>\n",
              "      <td>2</td>\n",
              "      <td>122.0</td>\n",
              "      <td>70.0</td>\n",
              "      <td>27.0</td>\n",
              "      <td>NaN</td>\n",
              "      <td>36.8</td>\n",
              "      <td>0.340</td>\n",
              "      <td>27</td>\n",
              "      <td>0</td>\n",
              "    </tr>\n",
              "    <tr>\n",
              "      <th>569</th>\n",
              "      <td>5</td>\n",
              "      <td>121.0</td>\n",
              "      <td>72.0</td>\n",
              "      <td>23.0</td>\n",
              "      <td>112.0</td>\n",
              "      <td>26.2</td>\n",
              "      <td>0.245</td>\n",
              "      <td>30</td>\n",
              "      <td>0</td>\n",
              "    </tr>\n",
              "    <tr>\n",
              "      <th>570</th>\n",
              "      <td>1</td>\n",
              "      <td>126.0</td>\n",
              "      <td>60.0</td>\n",
              "      <td>NaN</td>\n",
              "      <td>NaN</td>\n",
              "      <td>30.1</td>\n",
              "      <td>0.349</td>\n",
              "      <td>47</td>\n",
              "      <td>1</td>\n",
              "    </tr>\n",
              "    <tr>\n",
              "      <th>571</th>\n",
              "      <td>1</td>\n",
              "      <td>93.0</td>\n",
              "      <td>70.0</td>\n",
              "      <td>31.0</td>\n",
              "      <td>NaN</td>\n",
              "      <td>30.4</td>\n",
              "      <td>0.315</td>\n",
              "      <td>23</td>\n",
              "      <td>0</td>\n",
              "    </tr>\n",
              "  </tbody>\n",
              "</table>\n",
              "<p>572 rows × 9 columns</p>\n",
              "</div>"
            ],
            "text/plain": [
              "     Pregnancies  Glucose  ...  Age  Outcome\n",
              "0              6    148.0  ...   50        1\n",
              "1              1     85.0  ...   31        0\n",
              "2              8    183.0  ...   32        1\n",
              "3              0    137.0  ...   33        1\n",
              "4              5    116.0  ...   30        0\n",
              "..           ...      ...  ...  ...      ...\n",
              "567            9     89.0  ...   33        0\n",
              "568            2    122.0  ...   27        0\n",
              "569            5    121.0  ...   30        0\n",
              "570            1    126.0  ...   47        1\n",
              "571            1     93.0  ...   23        0\n",
              "\n",
              "[572 rows x 9 columns]"
            ]
          },
          "metadata": {},
          "execution_count": 84
        }
      ]
    },
    {
      "cell_type": "markdown",
      "metadata": {
        "id": "2Rs0tduOLDxA"
      },
      "source": [
        "**Ideias:**\n",
        "\n",
        "- Analisar dados faltantes\n",
        "- Substituir os dados faltantes\n",
        "- Normalizar"
      ]
    },
    {
      "cell_type": "markdown",
      "metadata": {
        "id": "GzS-ulPCKKZg"
      },
      "source": [
        "# Limpeza dos dados"
      ]
    },
    {
      "cell_type": "markdown",
      "metadata": {
        "id": "QMPRKZTiKETB"
      },
      "source": [
        "Analisando dados faltantes"
      ]
    },
    {
      "cell_type": "code",
      "metadata": {
        "colab": {
          "base_uri": "https://localhost:8080/"
        },
        "id": "LKjK-JSzDJOx",
        "outputId": "96b36489-2c5d-4ea6-e357-f1de9c310769"
      },
      "source": [
        "data.isnull().sum()"
      ],
      "execution_count": null,
      "outputs": [
        {
          "output_type": "execute_result",
          "data": {
            "text/plain": [
              "Pregnancies                   0\n",
              "Glucose                       5\n",
              "BloodPressure                35\n",
              "SkinThickness               227\n",
              "Insulin                     374\n",
              "BMI                          11\n",
              "DiabetesPedigreeFunction      0\n",
              "Age                           0\n",
              "Outcome                       0\n",
              "dtype: int64"
            ]
          },
          "metadata": {},
          "execution_count": 85
        }
      ]
    },
    {
      "cell_type": "markdown",
      "metadata": {
        "id": "FBcaXE4IKaLX"
      },
      "source": [
        "Remoção de dados faltantes reduz muito a quantidade de dados"
      ]
    },
    {
      "cell_type": "code",
      "metadata": {
        "id": "NfLH7GsODPK_",
        "colab": {
          "base_uri": "https://localhost:8080/",
          "height": 419
        },
        "outputId": "8d8676c6-b83e-43a6-8287-217bf354f136"
      },
      "source": [
        "data.dropna()"
      ],
      "execution_count": null,
      "outputs": [
        {
          "output_type": "execute_result",
          "data": {
            "text/html": [
              "<div>\n",
              "<style scoped>\n",
              "    .dataframe tbody tr th:only-of-type {\n",
              "        vertical-align: middle;\n",
              "    }\n",
              "\n",
              "    .dataframe tbody tr th {\n",
              "        vertical-align: top;\n",
              "    }\n",
              "\n",
              "    .dataframe thead th {\n",
              "        text-align: right;\n",
              "    }\n",
              "</style>\n",
              "<table border=\"1\" class=\"dataframe\">\n",
              "  <thead>\n",
              "    <tr style=\"text-align: right;\">\n",
              "      <th></th>\n",
              "      <th>Pregnancies</th>\n",
              "      <th>Glucose</th>\n",
              "      <th>BloodPressure</th>\n",
              "      <th>SkinThickness</th>\n",
              "      <th>Insulin</th>\n",
              "      <th>BMI</th>\n",
              "      <th>DiabetesPedigreeFunction</th>\n",
              "      <th>Age</th>\n",
              "      <th>Outcome</th>\n",
              "    </tr>\n",
              "  </thead>\n",
              "  <tbody>\n",
              "    <tr>\n",
              "      <th>3</th>\n",
              "      <td>0</td>\n",
              "      <td>137.0</td>\n",
              "      <td>40.0</td>\n",
              "      <td>35.0</td>\n",
              "      <td>168.0</td>\n",
              "      <td>43.1</td>\n",
              "      <td>2.288</td>\n",
              "      <td>33</td>\n",
              "      <td>1</td>\n",
              "    </tr>\n",
              "    <tr>\n",
              "      <th>6</th>\n",
              "      <td>2</td>\n",
              "      <td>197.0</td>\n",
              "      <td>70.0</td>\n",
              "      <td>45.0</td>\n",
              "      <td>543.0</td>\n",
              "      <td>30.5</td>\n",
              "      <td>0.158</td>\n",
              "      <td>53</td>\n",
              "      <td>1</td>\n",
              "    </tr>\n",
              "    <tr>\n",
              "      <th>12</th>\n",
              "      <td>0</td>\n",
              "      <td>118.0</td>\n",
              "      <td>84.0</td>\n",
              "      <td>47.0</td>\n",
              "      <td>230.0</td>\n",
              "      <td>45.8</td>\n",
              "      <td>0.551</td>\n",
              "      <td>31</td>\n",
              "      <td>1</td>\n",
              "    </tr>\n",
              "    <tr>\n",
              "      <th>14</th>\n",
              "      <td>1</td>\n",
              "      <td>103.0</td>\n",
              "      <td>30.0</td>\n",
              "      <td>38.0</td>\n",
              "      <td>83.0</td>\n",
              "      <td>43.3</td>\n",
              "      <td>0.183</td>\n",
              "      <td>33</td>\n",
              "      <td>0</td>\n",
              "    </tr>\n",
              "    <tr>\n",
              "      <th>15</th>\n",
              "      <td>3</td>\n",
              "      <td>126.0</td>\n",
              "      <td>88.0</td>\n",
              "      <td>41.0</td>\n",
              "      <td>235.0</td>\n",
              "      <td>39.3</td>\n",
              "      <td>0.704</td>\n",
              "      <td>27</td>\n",
              "      <td>0</td>\n",
              "    </tr>\n",
              "    <tr>\n",
              "      <th>...</th>\n",
              "      <td>...</td>\n",
              "      <td>...</td>\n",
              "      <td>...</td>\n",
              "      <td>...</td>\n",
              "      <td>...</td>\n",
              "      <td>...</td>\n",
              "      <td>...</td>\n",
              "      <td>...</td>\n",
              "      <td>...</td>\n",
              "    </tr>\n",
              "    <tr>\n",
              "      <th>553</th>\n",
              "      <td>13</td>\n",
              "      <td>153.0</td>\n",
              "      <td>88.0</td>\n",
              "      <td>37.0</td>\n",
              "      <td>140.0</td>\n",
              "      <td>40.6</td>\n",
              "      <td>1.174</td>\n",
              "      <td>39</td>\n",
              "      <td>0</td>\n",
              "    </tr>\n",
              "    <tr>\n",
              "      <th>554</th>\n",
              "      <td>12</td>\n",
              "      <td>100.0</td>\n",
              "      <td>84.0</td>\n",
              "      <td>33.0</td>\n",
              "      <td>105.0</td>\n",
              "      <td>30.0</td>\n",
              "      <td>0.488</td>\n",
              "      <td>46</td>\n",
              "      <td>0</td>\n",
              "    </tr>\n",
              "    <tr>\n",
              "      <th>558</th>\n",
              "      <td>1</td>\n",
              "      <td>121.0</td>\n",
              "      <td>78.0</td>\n",
              "      <td>39.0</td>\n",
              "      <td>74.0</td>\n",
              "      <td>39.0</td>\n",
              "      <td>0.261</td>\n",
              "      <td>28</td>\n",
              "      <td>0</td>\n",
              "    </tr>\n",
              "    <tr>\n",
              "      <th>565</th>\n",
              "      <td>2</td>\n",
              "      <td>88.0</td>\n",
              "      <td>58.0</td>\n",
              "      <td>26.0</td>\n",
              "      <td>16.0</td>\n",
              "      <td>28.4</td>\n",
              "      <td>0.766</td>\n",
              "      <td>22</td>\n",
              "      <td>0</td>\n",
              "    </tr>\n",
              "    <tr>\n",
              "      <th>569</th>\n",
              "      <td>5</td>\n",
              "      <td>121.0</td>\n",
              "      <td>72.0</td>\n",
              "      <td>23.0</td>\n",
              "      <td>112.0</td>\n",
              "      <td>26.2</td>\n",
              "      <td>0.245</td>\n",
              "      <td>30</td>\n",
              "      <td>0</td>\n",
              "    </tr>\n",
              "  </tbody>\n",
              "</table>\n",
              "<p>196 rows × 9 columns</p>\n",
              "</div>"
            ],
            "text/plain": [
              "     Pregnancies  Glucose  ...  Age  Outcome\n",
              "3              0    137.0  ...   33        1\n",
              "6              2    197.0  ...   53        1\n",
              "12             0    118.0  ...   31        1\n",
              "14             1    103.0  ...   33        0\n",
              "15             3    126.0  ...   27        0\n",
              "..           ...      ...  ...  ...      ...\n",
              "553           13    153.0  ...   39        0\n",
              "554           12    100.0  ...   46        0\n",
              "558            1    121.0  ...   28        0\n",
              "565            2     88.0  ...   22        0\n",
              "569            5    121.0  ...   30        0\n",
              "\n",
              "[196 rows x 9 columns]"
            ]
          },
          "metadata": {},
          "execution_count": 86
        }
      ]
    },
    {
      "cell_type": "code",
      "metadata": {
        "id": "-EKLxKEEY38q"
      },
      "source": [
        "df_clear = data"
      ],
      "execution_count": null,
      "outputs": []
    },
    {
      "cell_type": "code",
      "metadata": {
        "colab": {
          "base_uri": "https://localhost:8080/"
        },
        "id": "5CIr_OUkIGUR",
        "outputId": "f2308fe3-544b-4edc-a68e-c001a4ebb8cd"
      },
      "source": [
        "plt.figure(figsize=(12,7))\n",
        "sns.heatmap(data.corr(), annot = True, cmap= 'viridis')"
      ],
      "execution_count": null,
      "outputs": [
        {
          "output_type": "error",
          "ename": "NameError",
          "evalue": "ignored",
          "traceback": [
            "\u001b[0;31m---------------------------------------------------------------------------\u001b[0m",
            "\u001b[0;31mNameError\u001b[0m                                 Traceback (most recent call last)",
            "\u001b[0;32m<ipython-input-1-009e13818ba0>\u001b[0m in \u001b[0;36m<module>\u001b[0;34m()\u001b[0m\n\u001b[0;32m----> 1\u001b[0;31m \u001b[0mplt\u001b[0m\u001b[0;34m.\u001b[0m\u001b[0mfigure\u001b[0m\u001b[0;34m(\u001b[0m\u001b[0mfigsize\u001b[0m\u001b[0;34m=\u001b[0m\u001b[0;34m(\u001b[0m\u001b[0;36m12\u001b[0m\u001b[0;34m,\u001b[0m\u001b[0;36m7\u001b[0m\u001b[0;34m)\u001b[0m\u001b[0;34m)\u001b[0m\u001b[0;34m\u001b[0m\u001b[0;34m\u001b[0m\u001b[0m\n\u001b[0m\u001b[1;32m      2\u001b[0m \u001b[0msns\u001b[0m\u001b[0;34m.\u001b[0m\u001b[0mheatmap\u001b[0m\u001b[0;34m(\u001b[0m\u001b[0mdata\u001b[0m\u001b[0;34m.\u001b[0m\u001b[0mcorr\u001b[0m\u001b[0;34m(\u001b[0m\u001b[0;34m)\u001b[0m\u001b[0;34m,\u001b[0m \u001b[0mannot\u001b[0m \u001b[0;34m=\u001b[0m \u001b[0;32mTrue\u001b[0m\u001b[0;34m,\u001b[0m \u001b[0mcmap\u001b[0m\u001b[0;34m=\u001b[0m \u001b[0;34m'viridis'\u001b[0m\u001b[0;34m)\u001b[0m\u001b[0;34m\u001b[0m\u001b[0;34m\u001b[0m\u001b[0m\n",
            "\u001b[0;31mNameError\u001b[0m: name 'plt' is not defined"
          ]
        }
      ]
    },
    {
      "cell_type": "markdown",
      "metadata": {
        "id": "canleQyZ1XFE"
      },
      "source": [
        "Optamos por subistituir os dados faltantes pela mediana"
      ]
    },
    {
      "cell_type": "code",
      "metadata": {
        "id": "wnykLc5MDBXj"
      },
      "source": [
        "def medianNull(x):\n",
        "  i = 0\n",
        "  j = 52\n",
        "  while(i < 11):\n",
        "    Median = x[j-52:j].median()\n",
        "    x.fillna(Median, inplace=True)\n",
        "    j = j + 52\n",
        "    i = i + 1"
      ],
      "execution_count": null,
      "outputs": []
    },
    {
      "cell_type": "code",
      "metadata": {
        "colab": {
          "base_uri": "https://localhost:8080/"
        },
        "id": "Gu7QbvadFqTL",
        "outputId": "97e5800d-8423-438d-be39-a850bbe794bb"
      },
      "source": [
        "df_clear = df_clear.sort_values(by='Glucose')\n",
        "medianNull(df_clear['Insulin'])\n",
        "\n",
        "df_clear = df_clear.sort_values(by='Insulin')\n",
        "medianNull(df_clear['Glucose'])\n",
        "\n",
        "df_clear = df_clear.sort_values(by='BMI')\n",
        "medianNull(df_clear['SkinThickness'])\n",
        "\n",
        "df_clear = df_clear.sort_values(by='SkinThickness')\n",
        "medianNull(df_clear['BMI'])\n",
        "\n",
        "df_clear = df_clear.sort_values(by='Age')\n",
        "medianNull(df_clear['BloodPressure'])\n",
        "\n",
        "\n",
        "#df_clear = df_clear.dropna()\n",
        "\n",
        "df_clear.isnull().sum()"
      ],
      "execution_count": null,
      "outputs": [
        {
          "output_type": "execute_result",
          "data": {
            "text/plain": [
              "Pregnancies                 0\n",
              "Glucose                     0\n",
              "BloodPressure               0\n",
              "SkinThickness               0\n",
              "Insulin                     0\n",
              "BMI                         0\n",
              "DiabetesPedigreeFunction    0\n",
              "Age                         0\n",
              "Outcome                     0\n",
              "dtype: int64"
            ]
          },
          "metadata": {},
          "execution_count": 90
        }
      ]
    },
    {
      "cell_type": "code",
      "metadata": {
        "colab": {
          "base_uri": "https://localhost:8080/",
          "height": 729
        },
        "id": "QA33qo-04Nez",
        "outputId": "f3a41e41-1e0f-40ac-d7d9-49e71ae85950"
      },
      "source": [
        "fig, axes = plt.subplots(nrows=4, ncols=2, figsize=(15, 10),\n",
        "                        subplot_kw={'xticks': [], 'yticks': []})\n",
        "colunas = df_clear.columns \n",
        "\n",
        "for i, ax in enumerate(axes.flat):\n",
        "    col = colunas[i]\n",
        "    sns.boxplot(x=col, data = df_clear, ax = ax)\n",
        "    ax.set_title(f\"Boxplot {col}\")\n",
        "plt.tight_layout()\n",
        "plt.show()"
      ],
      "execution_count": null,
      "outputs": [
        {
          "output_type": "display_data",
          "data": {
            "image/png": "[encoded data removed]",
            "text/plain": [
              "<Figure size 1080x720 with 8 Axes>"
            ]
          },
          "metadata": {
            "needs_background": "light"
          }
        }
      ]
    },
    {
      "cell_type": "markdown",
      "metadata": {
        "id": "7Vb1pSGqSpzR"
      },
      "source": [
        "Normalizando"
      ]
    },
    {
      "cell_type": "code",
      "metadata": {
        "colab": {
          "base_uri": "https://localhost:8080/"
        },
        "id": "Gr-pIM_pR1Uh",
        "outputId": "a45f4b93-ed4b-4210-975b-80072fa64b42"
      },
      "source": [
        "def minmax_norm(df_input):\n",
        "    return (df_input - df_input.min()) / ( df_input.max() - df_input.min())\n",
        "\n",
        "df_clear = minmax_norm(df_clear)\n",
        "\n",
        "print(df_clear)"
      ],
      "execution_count": null,
      "outputs": [
        {
          "output_type": "stream",
          "name": "stdout",
          "text": [
            "     Pregnancies   Glucose  ...       Age  Outcome\n",
            "376     0.058824  0.554839  ...  0.000000      0.0\n",
            "209     0.058824  0.174194  ...  0.000000      0.0\n",
            "425     0.117647  0.477419  ...  0.000000      1.0\n",
            "389     0.176471  0.277419  ...  0.000000      0.0\n",
            "120     0.117647  0.361290  ...  0.000000      0.0\n",
            "..           ...       ...  ...       ...      ...\n",
            "91      0.294118  0.567742  ...  0.800000      0.0\n",
            "509     0.294118  0.593548  ...  0.800000      0.0\n",
            "495     0.235294  0.651613  ...  0.816667      1.0\n",
            "336     0.117647  0.483871  ...  0.850000      0.0\n",
            "341     0.529412  0.580645  ...  1.000000      0.0\n",
            "\n",
            "[572 rows x 9 columns]\n"
          ]
        }
      ]
    },
    {
      "cell_type": "markdown",
      "metadata": {
        "id": "HbOLXghRKQvw"
      },
      "source": [
        "# Separando e treinando dados para classificação"
      ]
    },
    {
      "cell_type": "code",
      "metadata": {
        "colab": {
          "base_uri": "https://localhost:8080/"
        },
        "id": "dwdZ7g4OCUV5",
        "outputId": "36fbf923-00a6-4379-c0c3-c03a77f8499b"
      },
      "source": [
        "# Criando X and y par ao algorítmo de aprendizagem de máquina.\\\n",
        "print(' - Criando X e y para o algoritmo de aprendizagem a partir do arquivo diabetes_dataset')\n",
        "# Caso queira modificar as colunas consideradas basta algera o array a seguir.\n",
        "feature_cols = ['Pregnancies', 'Glucose', 'BloodPressure', 'SkinThickness', \n",
        "                'Insulin', 'BMI', 'DiabetesPedigreeFunction', 'Age']\n",
        "X = df_clear[feature_cols]\n",
        "y = df_clear.Outcome"
      ],
      "execution_count": null,
      "outputs": [
        {
          "output_type": "stream",
          "name": "stdout",
          "text": [
            " - Criando X e y para o algoritmo de aprendizagem a partir do arquivo diabetes_dataset\n"
          ]
        }
      ]
    },
    {
      "cell_type": "code",
      "metadata": {
        "colab": {
          "base_uri": "https://localhost:8080/"
        },
        "id": "Ie42g4eXCWXp",
        "outputId": "9aae4678-7ef6-4cf2-8f4e-3feb241f82c9"
      },
      "source": [
        "# Ciando o modelo preditivo para a base trabalhada\n",
        "print(' - Criando modelo preditivo')\n",
        "neigh = KNeighborsClassifier(n_neighbors=3)\n",
        "neigh.fit(X, y)"
      ],
      "execution_count": null,
      "outputs": [
        {
          "output_type": "stream",
          "name": "stdout",
          "text": [
            " - Criando modelo preditivo\n"
          ]
        },
        {
          "output_type": "execute_result",
          "data": {
            "text/plain": [
              "KNeighborsClassifier(n_neighbors=3)"
            ]
          },
          "metadata": {},
          "execution_count": 94
        }
      ]
    },
    {
      "cell_type": "code",
      "metadata": {
        "colab": {
          "base_uri": "https://localhost:8080/"
        },
        "id": "8flYPRb4CNYZ",
        "outputId": "ea06b0cc-1200-47c5-9e4e-6e3137b1125d"
      },
      "source": [
        "#realizando previsões com o arquivo de\n",
        "print(' - Aplicando modelo e enviando para o servidor')\n",
        "data_app = pd.read_csv('diabetes_app.csv')\n",
        "data_app = data_app[feature_cols]\n",
        "y_pred = neigh.predict(data_app)"
      ],
      "execution_count": null,
      "outputs": [
        {
          "output_type": "stream",
          "name": "stdout",
          "text": [
            " - Aplicando modelo e enviando para o servidor\n"
          ]
        }
      ]
    },
    {
      "cell_type": "code",
      "metadata": {
        "colab": {
          "base_uri": "https://localhost:8080/"
        },
        "id": "KSbsxyhqCQRB",
        "outputId": "98acd114-23e9-4ffe-c655-811a8c413eaf"
      },
      "source": [
        "# Enviando previsões realizadas com o modelo para o servidor\n",
        "URL = \"https://aydanomachado.com/mlclass/01_Preprocessing.php\"\n",
        "\n",
        "#TODO Substituir pela sua chave aqui\n",
        "DEV_KEY = \"Error 404\"\n",
        "\n",
        "# json para ser enviado para o servidor\n",
        "data = {'dev_key':DEV_KEY,\n",
        "        'predictions':pd.Series(y_pred).to_json(orient='values')}\n",
        "\n",
        "# Enviando requisição e salvando o objeto resposta\n",
        "r = requests.post(url = URL, data = data)\n",
        "\n",
        "# Extraindo e imprimindo o texto da resposta\n",
        "pastebin_url = r.text\n",
        "print(\" - Resposta do servidor:\\n\", r.text, \"\\n\")"
      ],
      "execution_count": null,
      "outputs": [
        {
          "output_type": "stream",
          "name": "stdout",
          "text": [
            " - Resposta do servidor:\n",
            " {\"status\":\"success\",\"dev_key\":\"Error 404\",\"accuracy\":0.6224489795918368,\"old_accuracy\":0.64795918367347} \n",
            "\n"
          ]
        }
      ]
    }
  ]
}