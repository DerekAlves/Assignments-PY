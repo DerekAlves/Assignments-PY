{
  "nbformat": 4,
  "nbformat_minor": 0,
  "metadata": {
    "colab": {
      "provenance": []
    },
    "kernelspec": {
      "name": "python3",
      "display_name": "Python 3"
    },
    "language_info": {
      "name": "python"
    }
  },
  "cells": [
    {
      "cell_type": "markdown",
      "metadata": {
        "id": "D5Iwuk0iRFRg"
      },
      "source": [
        "https://github.com/aydanomachado/mlclass/tree/master/03_Validation"
      ]
    },
    {
      "cell_type": "markdown",
      "metadata": {
        "id": "9KPqOlYsSUBH"
      },
      "source": [
        "Dicentes:\n",
        "- João Pedro Nunes\n",
        "- Elias Nogueira\n",
        "- Derek Alves\n"
      ]
    },
    {
      "cell_type": "markdown",
      "metadata": {
        "id": "imeIDtMcTAJ3"
      },
      "source": [
        "Tarefas:\n",
        "\n",
        "▶ Qual classificador usar?\n",
        "\n",
        "▶ Qual algoritmo de validação usar?"
      ]
    },
    {
      "cell_type": "code",
      "metadata": {
        "id": "Kl_FtIIyQwhL"
      },
      "source": [
        "import pandas as pd\n",
        "import numpy as np\n",
        "from sklearn.neighbors import KNeighborsClassifier\n",
        "import seaborn as sns\n",
        "import matplotlib.pyplot as plt\n",
        "import requests"
      ],
      "execution_count": null,
      "outputs": []
    },
    {
      "cell_type": "code",
      "metadata": {
        "colab": {
          "base_uri": "https://localhost:8080/",
          "height": 424
        },
        "id": "2tG-N-_zSf9v",
        "outputId": "3cbc8eeb-14c4-4888-d92d-2410ccd874dc"
      },
      "source": [
        "df = pd.read_csv(\"/content/abalone_dataset.csv\")\n",
        "df"
      ],
      "execution_count": null,
      "outputs": [
        {
          "output_type": "execute_result",
          "data": {
            "text/html": [
              "<div>\n",
              "<style scoped>\n",
              "    .dataframe tbody tr th:only-of-type {\n",
              "        vertical-align: middle;\n",
              "    }\n",
              "\n",
              "    .dataframe tbody tr th {\n",
              "        vertical-align: top;\n",
              "    }\n",
              "\n",
              "    .dataframe thead th {\n",
              "        text-align: right;\n",
              "    }\n",
              "</style>\n",
              "<table border=\"1\" class=\"dataframe\">\n",
              "  <thead>\n",
              "    <tr style=\"text-align: right;\">\n",
              "      <th></th>\n",
              "      <th>sex</th>\n",
              "      <th>length</th>\n",
              "      <th>diameter</th>\n",
              "      <th>height</th>\n",
              "      <th>whole_weight</th>\n",
              "      <th>shucked_weight</th>\n",
              "      <th>viscera_weight</th>\n",
              "      <th>shell_weight</th>\n",
              "      <th>type</th>\n",
              "    </tr>\n",
              "  </thead>\n",
              "  <tbody>\n",
              "    <tr>\n",
              "      <th>0</th>\n",
              "      <td>M</td>\n",
              "      <td>0.535</td>\n",
              "      <td>0.420</td>\n",
              "      <td>0.150</td>\n",
              "      <td>0.6995</td>\n",
              "      <td>0.2575</td>\n",
              "      <td>0.1530</td>\n",
              "      <td>0.2400</td>\n",
              "      <td>3</td>\n",
              "    </tr>\n",
              "    <tr>\n",
              "      <th>1</th>\n",
              "      <td>I</td>\n",
              "      <td>0.510</td>\n",
              "      <td>0.380</td>\n",
              "      <td>0.115</td>\n",
              "      <td>0.5155</td>\n",
              "      <td>0.2150</td>\n",
              "      <td>0.1135</td>\n",
              "      <td>0.1660</td>\n",
              "      <td>1</td>\n",
              "    </tr>\n",
              "    <tr>\n",
              "      <th>2</th>\n",
              "      <td>I</td>\n",
              "      <td>0.185</td>\n",
              "      <td>0.130</td>\n",
              "      <td>0.045</td>\n",
              "      <td>0.0290</td>\n",
              "      <td>0.0120</td>\n",
              "      <td>0.0075</td>\n",
              "      <td>0.0095</td>\n",
              "      <td>1</td>\n",
              "    </tr>\n",
              "    <tr>\n",
              "      <th>3</th>\n",
              "      <td>M</td>\n",
              "      <td>0.550</td>\n",
              "      <td>0.450</td>\n",
              "      <td>0.170</td>\n",
              "      <td>0.8100</td>\n",
              "      <td>0.3170</td>\n",
              "      <td>0.1570</td>\n",
              "      <td>0.2200</td>\n",
              "      <td>3</td>\n",
              "    </tr>\n",
              "    <tr>\n",
              "      <th>4</th>\n",
              "      <td>I</td>\n",
              "      <td>0.535</td>\n",
              "      <td>0.415</td>\n",
              "      <td>0.150</td>\n",
              "      <td>0.5765</td>\n",
              "      <td>0.3595</td>\n",
              "      <td>0.1350</td>\n",
              "      <td>0.2250</td>\n",
              "      <td>1</td>\n",
              "    </tr>\n",
              "    <tr>\n",
              "      <th>...</th>\n",
              "      <td>...</td>\n",
              "      <td>...</td>\n",
              "      <td>...</td>\n",
              "      <td>...</td>\n",
              "      <td>...</td>\n",
              "      <td>...</td>\n",
              "      <td>...</td>\n",
              "      <td>...</td>\n",
              "      <td>...</td>\n",
              "    </tr>\n",
              "    <tr>\n",
              "      <th>3127</th>\n",
              "      <td>F</td>\n",
              "      <td>0.545</td>\n",
              "      <td>0.405</td>\n",
              "      <td>0.175</td>\n",
              "      <td>0.9800</td>\n",
              "      <td>0.2585</td>\n",
              "      <td>0.2070</td>\n",
              "      <td>0.3800</td>\n",
              "      <td>3</td>\n",
              "    </tr>\n",
              "    <tr>\n",
              "      <th>3128</th>\n",
              "      <td>M</td>\n",
              "      <td>0.655</td>\n",
              "      <td>0.525</td>\n",
              "      <td>0.185</td>\n",
              "      <td>1.2590</td>\n",
              "      <td>0.4870</td>\n",
              "      <td>0.2215</td>\n",
              "      <td>0.4450</td>\n",
              "      <td>3</td>\n",
              "    </tr>\n",
              "    <tr>\n",
              "      <th>3129</th>\n",
              "      <td>I</td>\n",
              "      <td>0.450</td>\n",
              "      <td>0.340</td>\n",
              "      <td>0.120</td>\n",
              "      <td>0.4925</td>\n",
              "      <td>0.2410</td>\n",
              "      <td>0.1075</td>\n",
              "      <td>0.1200</td>\n",
              "      <td>1</td>\n",
              "    </tr>\n",
              "    <tr>\n",
              "      <th>3130</th>\n",
              "      <td>F</td>\n",
              "      <td>0.520</td>\n",
              "      <td>0.410</td>\n",
              "      <td>0.155</td>\n",
              "      <td>0.7270</td>\n",
              "      <td>0.2910</td>\n",
              "      <td>0.1835</td>\n",
              "      <td>0.2350</td>\n",
              "      <td>3</td>\n",
              "    </tr>\n",
              "    <tr>\n",
              "      <th>3131</th>\n",
              "      <td>F</td>\n",
              "      <td>0.640</td>\n",
              "      <td>0.480</td>\n",
              "      <td>0.195</td>\n",
              "      <td>1.1435</td>\n",
              "      <td>0.4915</td>\n",
              "      <td>0.2345</td>\n",
              "      <td>0.3530</td>\n",
              "      <td>2</td>\n",
              "    </tr>\n",
              "  </tbody>\n",
              "</table>\n",
              "<p>3132 rows × 9 columns</p>\n",
              "</div>"
            ],
            "text/plain": [
              "     sex  length  diameter  ...  viscera_weight  shell_weight  type\n",
              "0      M   0.535     0.420  ...          0.1530        0.2400     3\n",
              "1      I   0.510     0.380  ...          0.1135        0.1660     1\n",
              "2      I   0.185     0.130  ...          0.0075        0.0095     1\n",
              "3      M   0.550     0.450  ...          0.1570        0.2200     3\n",
              "4      I   0.535     0.415  ...          0.1350        0.2250     1\n",
              "...   ..     ...       ...  ...             ...           ...   ...\n",
              "3127   F   0.545     0.405  ...          0.2070        0.3800     3\n",
              "3128   M   0.655     0.525  ...          0.2215        0.4450     3\n",
              "3129   I   0.450     0.340  ...          0.1075        0.1200     1\n",
              "3130   F   0.520     0.410  ...          0.1835        0.2350     3\n",
              "3131   F   0.640     0.480  ...          0.2345        0.3530     2\n",
              "\n",
              "[3132 rows x 9 columns]"
            ]
          },
          "metadata": {},
          "execution_count": 97
        }
      ]
    },
    {
      "cell_type": "markdown",
      "metadata": {
        "id": "3MBzhaPXBleL"
      },
      "source": [
        "# Analisando os dados"
      ]
    },
    {
      "cell_type": "code",
      "metadata": {
        "colab": {
          "base_uri": "https://localhost:8080/"
        },
        "id": "6TL09q0xSueP",
        "outputId": "fe2f0b77-58d1-4401-a65f-c223d6cacd59"
      },
      "source": [
        "df.isnull().sum()"
      ],
      "execution_count": null,
      "outputs": [
        {
          "output_type": "execute_result",
          "data": {
            "text/plain": [
              "sex               0\n",
              "length            0\n",
              "diameter          0\n",
              "height            0\n",
              "whole_weight      0\n",
              "shucked_weight    0\n",
              "viscera_weight    0\n",
              "shell_weight      0\n",
              "type              0\n",
              "dtype: int64"
            ]
          },
          "metadata": {},
          "execution_count": 98
        }
      ]
    },
    {
      "cell_type": "code",
      "metadata": {
        "colab": {
          "base_uri": "https://localhost:8080/",
          "height": 300
        },
        "id": "AVMvxOWJS2CX",
        "outputId": "ed524516-e817-4954-8086-c8b7f802f79d"
      },
      "source": [
        "df.describe()"
      ],
      "execution_count": null,
      "outputs": [
        {
          "output_type": "execute_result",
          "data": {
            "text/html": [
              "<div>\n",
              "<style scoped>\n",
              "    .dataframe tbody tr th:only-of-type {\n",
              "        vertical-align: middle;\n",
              "    }\n",
              "\n",
              "    .dataframe tbody tr th {\n",
              "        vertical-align: top;\n",
              "    }\n",
              "\n",
              "    .dataframe thead th {\n",
              "        text-align: right;\n",
              "    }\n",
              "</style>\n",
              "<table border=\"1\" class=\"dataframe\">\n",
              "  <thead>\n",
              "    <tr style=\"text-align: right;\">\n",
              "      <th></th>\n",
              "      <th>length</th>\n",
              "      <th>diameter</th>\n",
              "      <th>height</th>\n",
              "      <th>whole_weight</th>\n",
              "      <th>shucked_weight</th>\n",
              "      <th>viscera_weight</th>\n",
              "      <th>shell_weight</th>\n",
              "      <th>type</th>\n",
              "    </tr>\n",
              "  </thead>\n",
              "  <tbody>\n",
              "    <tr>\n",
              "      <th>count</th>\n",
              "      <td>3132.000000</td>\n",
              "      <td>3132.000000</td>\n",
              "      <td>3132.000000</td>\n",
              "      <td>3132.000000</td>\n",
              "      <td>3132.000000</td>\n",
              "      <td>3132.000000</td>\n",
              "      <td>3132.000000</td>\n",
              "      <td>3132.000000</td>\n",
              "    </tr>\n",
              "    <tr>\n",
              "      <th>mean</th>\n",
              "      <td>0.521392</td>\n",
              "      <td>0.405865</td>\n",
              "      <td>0.138263</td>\n",
              "      <td>0.818738</td>\n",
              "      <td>0.355398</td>\n",
              "      <td>0.178349</td>\n",
              "      <td>0.235616</td>\n",
              "      <td>1.991379</td>\n",
              "    </tr>\n",
              "    <tr>\n",
              "      <th>std</th>\n",
              "      <td>0.120756</td>\n",
              "      <td>0.099600</td>\n",
              "      <td>0.039206</td>\n",
              "      <td>0.489560</td>\n",
              "      <td>0.221473</td>\n",
              "      <td>0.109554</td>\n",
              "      <td>0.139215</td>\n",
              "      <td>0.824561</td>\n",
              "    </tr>\n",
              "    <tr>\n",
              "      <th>min</th>\n",
              "      <td>0.075000</td>\n",
              "      <td>0.055000</td>\n",
              "      <td>0.000000</td>\n",
              "      <td>0.002000</td>\n",
              "      <td>0.001000</td>\n",
              "      <td>0.000500</td>\n",
              "      <td>0.001500</td>\n",
              "      <td>1.000000</td>\n",
              "    </tr>\n",
              "    <tr>\n",
              "      <th>25%</th>\n",
              "      <td>0.450000</td>\n",
              "      <td>0.345000</td>\n",
              "      <td>0.110000</td>\n",
              "      <td>0.436375</td>\n",
              "      <td>0.181500</td>\n",
              "      <td>0.090875</td>\n",
              "      <td>0.127500</td>\n",
              "      <td>1.000000</td>\n",
              "    </tr>\n",
              "    <tr>\n",
              "      <th>50%</th>\n",
              "      <td>0.540000</td>\n",
              "      <td>0.420000</td>\n",
              "      <td>0.140000</td>\n",
              "      <td>0.787000</td>\n",
              "      <td>0.330500</td>\n",
              "      <td>0.168000</td>\n",
              "      <td>0.225000</td>\n",
              "      <td>2.000000</td>\n",
              "    </tr>\n",
              "    <tr>\n",
              "      <th>75%</th>\n",
              "      <td>0.610000</td>\n",
              "      <td>0.480000</td>\n",
              "      <td>0.165000</td>\n",
              "      <td>1.141625</td>\n",
              "      <td>0.497500</td>\n",
              "      <td>0.250125</td>\n",
              "      <td>0.323625</td>\n",
              "      <td>3.000000</td>\n",
              "    </tr>\n",
              "    <tr>\n",
              "      <th>max</th>\n",
              "      <td>0.815000</td>\n",
              "      <td>0.650000</td>\n",
              "      <td>0.515000</td>\n",
              "      <td>2.825500</td>\n",
              "      <td>1.488000</td>\n",
              "      <td>0.760000</td>\n",
              "      <td>1.005000</td>\n",
              "      <td>3.000000</td>\n",
              "    </tr>\n",
              "  </tbody>\n",
              "</table>\n",
              "</div>"
            ],
            "text/plain": [
              "            length     diameter  ...  shell_weight         type\n",
              "count  3132.000000  3132.000000  ...   3132.000000  3132.000000\n",
              "mean      0.521392     0.405865  ...      0.235616     1.991379\n",
              "std       0.120756     0.099600  ...      0.139215     0.824561\n",
              "min       0.075000     0.055000  ...      0.001500     1.000000\n",
              "25%       0.450000     0.345000  ...      0.127500     1.000000\n",
              "50%       0.540000     0.420000  ...      0.225000     2.000000\n",
              "75%       0.610000     0.480000  ...      0.323625     3.000000\n",
              "max       0.815000     0.650000  ...      1.005000     3.000000\n",
              "\n",
              "[8 rows x 8 columns]"
            ]
          },
          "metadata": {},
          "execution_count": 99
        }
      ]
    },
    {
      "cell_type": "markdown",
      "metadata": {
        "id": "NtaQGpB2x2i6"
      },
      "source": [
        "Verificando a existencia de algum valor discrepante"
      ]
    },
    {
      "cell_type": "code",
      "metadata": {
        "colab": {
          "base_uri": "https://localhost:8080/"
        },
        "id": "3tsMJdwYwQG5",
        "outputId": "823877ea-e509-4022-c9aa-998e3f775d02"
      },
      "source": [
        "df['sex'].unique()"
      ],
      "execution_count": null,
      "outputs": [
        {
          "output_type": "execute_result",
          "data": {
            "text/plain": [
              "array(['M', 'I', 'F'], dtype=object)"
            ]
          },
          "metadata": {},
          "execution_count": 100
        }
      ]
    },
    {
      "cell_type": "markdown",
      "metadata": {
        "id": "HQNvPIrYyToD"
      },
      "source": [
        "Relação entre as variaveis "
      ]
    },
    {
      "cell_type": "code",
      "metadata": {
        "colab": {
          "base_uri": "https://localhost:8080/",
          "height": 520
        },
        "id": "rAWRfN1OxGNJ",
        "outputId": "970fa3cf-3590-46f2-cdaf-8b069454197d"
      },
      "source": [
        "plt.figure(figsize=(12,7))\n",
        "sns.heatmap(df.corr(), annot = True, cmap= 'viridis')"
      ],
      "execution_count": null,
      "outputs": [
        {
          "output_type": "execute_result",
          "data": {
            "text/plain": [
              "<matplotlib.axes._subplots.AxesSubplot at 0x7f3760f6b650>"
            ]
          },
          "metadata": {},
          "execution_count": 101
        },
        {
          "output_type": "display_data",
          "data": {
            "image/png": "[encoded data removed]",
            "text/plain": [
              "<Figure size 864x504 with 2 Axes>"
            ]
          },
          "metadata": {
            "needs_background": "light"
          }
        }
      ]
    },
    {
      "cell_type": "markdown",
      "metadata": {
        "id": "wySSWezDBp_d"
      },
      "source": [
        "Removendo a variável 'length'"
      ]
    },
    {
      "cell_type": "code",
      "metadata": {
        "colab": {
          "base_uri": "https://localhost:8080/",
          "height": 424
        },
        "id": "mmqsnWkX12GX",
        "outputId": "5ecbcaaa-05f9-4c72-a72c-0d38d6f62e88"
      },
      "source": [
        "df_teste = df\n",
        "df_teste.drop('length',axis=1,inplace=True)\n",
        "target = df_teste.pop('type')\n",
        "df_teste"
      ],
      "execution_count": null,
      "outputs": [
        {
          "output_type": "execute_result",
          "data": {
            "text/html": [
              "<div>\n",
              "<style scoped>\n",
              "    .dataframe tbody tr th:only-of-type {\n",
              "        vertical-align: middle;\n",
              "    }\n",
              "\n",
              "    .dataframe tbody tr th {\n",
              "        vertical-align: top;\n",
              "    }\n",
              "\n",
              "    .dataframe thead th {\n",
              "        text-align: right;\n",
              "    }\n",
              "</style>\n",
              "<table border=\"1\" class=\"dataframe\">\n",
              "  <thead>\n",
              "    <tr style=\"text-align: right;\">\n",
              "      <th></th>\n",
              "      <th>sex</th>\n",
              "      <th>diameter</th>\n",
              "      <th>height</th>\n",
              "      <th>whole_weight</th>\n",
              "      <th>shucked_weight</th>\n",
              "      <th>viscera_weight</th>\n",
              "      <th>shell_weight</th>\n",
              "    </tr>\n",
              "  </thead>\n",
              "  <tbody>\n",
              "    <tr>\n",
              "      <th>0</th>\n",
              "      <td>M</td>\n",
              "      <td>0.420</td>\n",
              "      <td>0.150</td>\n",
              "      <td>0.6995</td>\n",
              "      <td>0.2575</td>\n",
              "      <td>0.1530</td>\n",
              "      <td>0.2400</td>\n",
              "    </tr>\n",
              "    <tr>\n",
              "      <th>1</th>\n",
              "      <td>I</td>\n",
              "      <td>0.380</td>\n",
              "      <td>0.115</td>\n",
              "      <td>0.5155</td>\n",
              "      <td>0.2150</td>\n",
              "      <td>0.1135</td>\n",
              "      <td>0.1660</td>\n",
              "    </tr>\n",
              "    <tr>\n",
              "      <th>2</th>\n",
              "      <td>I</td>\n",
              "      <td>0.130</td>\n",
              "      <td>0.045</td>\n",
              "      <td>0.0290</td>\n",
              "      <td>0.0120</td>\n",
              "      <td>0.0075</td>\n",
              "      <td>0.0095</td>\n",
              "    </tr>\n",
              "    <tr>\n",
              "      <th>3</th>\n",
              "      <td>M</td>\n",
              "      <td>0.450</td>\n",
              "      <td>0.170</td>\n",
              "      <td>0.8100</td>\n",
              "      <td>0.3170</td>\n",
              "      <td>0.1570</td>\n",
              "      <td>0.2200</td>\n",
              "    </tr>\n",
              "    <tr>\n",
              "      <th>4</th>\n",
              "      <td>I</td>\n",
              "      <td>0.415</td>\n",
              "      <td>0.150</td>\n",
              "      <td>0.5765</td>\n",
              "      <td>0.3595</td>\n",
              "      <td>0.1350</td>\n",
              "      <td>0.2250</td>\n",
              "    </tr>\n",
              "    <tr>\n",
              "      <th>...</th>\n",
              "      <td>...</td>\n",
              "      <td>...</td>\n",
              "      <td>...</td>\n",
              "      <td>...</td>\n",
              "      <td>...</td>\n",
              "      <td>...</td>\n",
              "      <td>...</td>\n",
              "    </tr>\n",
              "    <tr>\n",
              "      <th>3127</th>\n",
              "      <td>F</td>\n",
              "      <td>0.405</td>\n",
              "      <td>0.175</td>\n",
              "      <td>0.9800</td>\n",
              "      <td>0.2585</td>\n",
              "      <td>0.2070</td>\n",
              "      <td>0.3800</td>\n",
              "    </tr>\n",
              "    <tr>\n",
              "      <th>3128</th>\n",
              "      <td>M</td>\n",
              "      <td>0.525</td>\n",
              "      <td>0.185</td>\n",
              "      <td>1.2590</td>\n",
              "      <td>0.4870</td>\n",
              "      <td>0.2215</td>\n",
              "      <td>0.4450</td>\n",
              "    </tr>\n",
              "    <tr>\n",
              "      <th>3129</th>\n",
              "      <td>I</td>\n",
              "      <td>0.340</td>\n",
              "      <td>0.120</td>\n",
              "      <td>0.4925</td>\n",
              "      <td>0.2410</td>\n",
              "      <td>0.1075</td>\n",
              "      <td>0.1200</td>\n",
              "    </tr>\n",
              "    <tr>\n",
              "      <th>3130</th>\n",
              "      <td>F</td>\n",
              "      <td>0.410</td>\n",
              "      <td>0.155</td>\n",
              "      <td>0.7270</td>\n",
              "      <td>0.2910</td>\n",
              "      <td>0.1835</td>\n",
              "      <td>0.2350</td>\n",
              "    </tr>\n",
              "    <tr>\n",
              "      <th>3131</th>\n",
              "      <td>F</td>\n",
              "      <td>0.480</td>\n",
              "      <td>0.195</td>\n",
              "      <td>1.1435</td>\n",
              "      <td>0.4915</td>\n",
              "      <td>0.2345</td>\n",
              "      <td>0.3530</td>\n",
              "    </tr>\n",
              "  </tbody>\n",
              "</table>\n",
              "<p>3132 rows × 7 columns</p>\n",
              "</div>"
            ],
            "text/plain": [
              "     sex  diameter  height  ...  shucked_weight  viscera_weight  shell_weight\n",
              "0      M     0.420   0.150  ...          0.2575          0.1530        0.2400\n",
              "1      I     0.380   0.115  ...          0.2150          0.1135        0.1660\n",
              "2      I     0.130   0.045  ...          0.0120          0.0075        0.0095\n",
              "3      M     0.450   0.170  ...          0.3170          0.1570        0.2200\n",
              "4      I     0.415   0.150  ...          0.3595          0.1350        0.2250\n",
              "...   ..       ...     ...  ...             ...             ...           ...\n",
              "3127   F     0.405   0.175  ...          0.2585          0.2070        0.3800\n",
              "3128   M     0.525   0.185  ...          0.4870          0.2215        0.4450\n",
              "3129   I     0.340   0.120  ...          0.2410          0.1075        0.1200\n",
              "3130   F     0.410   0.155  ...          0.2910          0.1835        0.2350\n",
              "3131   F     0.480   0.195  ...          0.4915          0.2345        0.3530\n",
              "\n",
              "[3132 rows x 7 columns]"
            ]
          },
          "metadata": {},
          "execution_count": 102
        }
      ]
    },
    {
      "cell_type": "markdown",
      "metadata": {
        "id": "Q7tDoJd1B1_t"
      },
      "source": [
        "Alterando os valores de 'sex' para números "
      ]
    },
    {
      "cell_type": "code",
      "metadata": {
        "colab": {
          "base_uri": "https://localhost:8080/"
        },
        "id": "Yp7FltwU-zjN",
        "outputId": "3d2b9d49-6a70-4ef6-fd0d-60b629f0cfe8"
      },
      "source": [
        "df['sex'] = df['sex'].replace('M', 1)\n",
        "df['sex'] = df['sex'].replace('F', 2)\n",
        "df['sex'] = df['sex'].replace('I', 3)\n",
        "df['sex'].unique()"
      ],
      "execution_count": null,
      "outputs": [
        {
          "output_type": "execute_result",
          "data": {
            "text/plain": [
              "array([1, 3, 2])"
            ]
          },
          "metadata": {},
          "execution_count": 103
        }
      ]
    },
    {
      "cell_type": "markdown",
      "metadata": {
        "id": "Rh6TF23jCE2u"
      },
      "source": [
        "# Testando e validando modelos "
      ]
    },
    {
      "cell_type": "code",
      "metadata": {
        "id": "speSEjLu1a7v"
      },
      "source": [
        "from sklearn.model_selection import train_test_split\n",
        "\n",
        "x_train, x_test, y_train, y_test = train_test_split(df_teste, target, test_size = 0.33)"
      ],
      "execution_count": null,
      "outputs": []
    },
    {
      "cell_type": "markdown",
      "metadata": {
        "id": "ScVvC2tuCJM1"
      },
      "source": [
        "**KNN**"
      ]
    },
    {
      "cell_type": "code",
      "metadata": {
        "colab": {
          "base_uri": "https://localhost:8080/"
        },
        "id": "J8YZsvhT2us_",
        "outputId": "6e5f67e6-6dcd-4fe6-da74-0d8fda76057a"
      },
      "source": [
        "from sklearn.model_selection import GridSearchCV\n",
        "\n",
        "knn2 = KNeighborsClassifier()\n",
        "param_grid = {'metric' :['minkowski','euclidean','manhattan'], \n",
        "    'n_neighbors': np.arange(1, 25)}\n",
        "\n",
        "knn_gscv = GridSearchCV(knn2, param_grid, scoring='accuracy', n_jobs = -1,cv=5)\n",
        "\n",
        "knn_gscv.fit(df_teste, target)"
      ],
      "execution_count": null,
      "outputs": [
        {
          "output_type": "execute_result",
          "data": {
            "text/plain": [
              "GridSearchCV(cv=5, estimator=KNeighborsClassifier(), n_jobs=-1,\n",
              "             param_grid={'metric': ['minkowski', 'euclidean', 'manhattan'],\n",
              "                         'n_neighbors': array([ 1,  2,  3,  4,  5,  6,  7,  8,  9, 10, 11, 12, 13, 14, 15, 16, 17,\n",
              "       18, 19, 20, 21, 22, 23, 24])},\n",
              "             scoring='accuracy')"
            ]
          },
          "metadata": {},
          "execution_count": 105
        }
      ]
    },
    {
      "cell_type": "code",
      "metadata": {
        "colab": {
          "base_uri": "https://localhost:8080/"
        },
        "id": "rb0nPwmJCGjU",
        "outputId": "eabc4900-63dc-4ac7-b3c0-b3049ddf51da"
      },
      "source": [
        "knn_gscv.best_params_"
      ],
      "execution_count": null,
      "outputs": [
        {
          "output_type": "execute_result",
          "data": {
            "text/plain": [
              "{'metric': 'manhattan', 'n_neighbors': 23}"
            ]
          },
          "metadata": {},
          "execution_count": 106
        }
      ]
    },
    {
      "cell_type": "code",
      "metadata": {
        "id": "egrQrjBm3aNF"
      },
      "source": [
        "from sklearn import metrics\n",
        "scores = []\n",
        "k_range = range(1,40)\n",
        "\n",
        "\n",
        "for k in k_range:\n",
        "    knn = KNeighborsClassifier(n_neighbors=k,metric='manhattan')\n",
        "    knn.fit(x_train, y_train)\n",
        "    y_pred = knn.predict(x_test)\n",
        "    scores.append(metrics.accuracy_score(y_test, y_pred))"
      ],
      "execution_count": null,
      "outputs": []
    },
    {
      "cell_type": "code",
      "metadata": {
        "id": "oE43vGn73bOF",
        "colab": {
          "base_uri": "https://localhost:8080/",
          "height": 532
        },
        "outputId": "ebb4d9d2-a48f-4eff-a7e6-5afd1937c300"
      },
      "source": [
        "plt.figure(figsize=(12,8))\n",
        "print(max(scores))\n",
        "plt.plot(k_range, scores)\n",
        "plt.xlabel('Value of K for KNN')\n",
        "plt.ylabel('Testing Accuracy')"
      ],
      "execution_count": null,
      "outputs": [
        {
          "output_type": "stream",
          "name": "stdout",
          "text": [
            "0.6566731141199227\n"
          ]
        },
        {
          "output_type": "execute_result",
          "data": {
            "text/plain": [
              "Text(0, 0.5, 'Testing Accuracy')"
            ]
          },
          "metadata": {},
          "execution_count": 108
        },
        {
          "output_type": "display_data",
          "data": {
            "image/png": "[encoded data removed]",
            "text/plain": [
              "<Figure size 864x576 with 1 Axes>"
            ]
          },
          "metadata": {
            "needs_background": "light"
          }
        }
      ]
    },
    {
      "cell_type": "markdown",
      "metadata": {
        "id": "4hHhoSbgCcMn"
      },
      "source": [
        "**Random Forest**"
      ]
    },
    {
      "cell_type": "code",
      "metadata": {
        "colab": {
          "base_uri": "https://localhost:8080/"
        },
        "id": "Wy7uhyJ4HL4x",
        "outputId": "2193e467-16ef-425f-ef04-b2aaeb2296e4"
      },
      "source": [
        "from sklearn.ensemble import RandomForestClassifier\n",
        "\n",
        "rf = RandomForestClassifier()\n",
        "rf.fit(x_train, y_train)"
      ],
      "execution_count": null,
      "outputs": [
        {
          "output_type": "execute_result",
          "data": {
            "text/plain": [
              "RandomForestClassifier()"
            ]
          },
          "metadata": {},
          "execution_count": 109
        }
      ]
    },
    {
      "cell_type": "code",
      "metadata": {
        "colab": {
          "base_uri": "https://localhost:8080/"
        },
        "id": "FfsUtXn2HOHw",
        "outputId": "777321bd-ca77-4e39-ea4e-8dd610154720"
      },
      "source": [
        "res_rf = rf.predict(x_test)\n",
        "print(metrics.classification_report(y_test, res_rf))"
      ],
      "execution_count": null,
      "outputs": [
        {
          "output_type": "stream",
          "name": "stdout",
          "text": [
            "              precision    recall  f1-score   support\n",
            "\n",
            "           1       0.71      0.73      0.72       337\n",
            "           2       0.55      0.49      0.52       352\n",
            "           3       0.66      0.72      0.69       345\n",
            "\n",
            "    accuracy                           0.64      1034\n",
            "   macro avg       0.64      0.64      0.64      1034\n",
            "weighted avg       0.64      0.64      0.64      1034\n",
            "\n"
          ]
        }
      ]
    },
    {
      "cell_type": "code",
      "metadata": {
        "colab": {
          "base_uri": "https://localhost:8080/"
        },
        "id": "kWmd6cePIxal",
        "outputId": "d3ea6225-2dbf-48ef-b6fb-2d332c7f7266"
      },
      "source": [
        "param_grid = {\n",
        "    'max_depth': [80, 90, 100, 110],\n",
        "    'n_estimators': [100, 200, 300, 1000]}\n",
        "\n",
        "rf = RandomForestClassifier()\n",
        "\n",
        "grid_search = GridSearchCV(estimator = rf, param_grid = param_grid, scoring='accuracy',\n",
        "                          cv = 3, n_jobs = -1, verbose = 2)\n",
        "grid_search.fit(df_teste, target)"
      ],
      "execution_count": null,
      "outputs": [
        {
          "output_type": "stream",
          "name": "stdout",
          "text": [
            "Fitting 3 folds for each of 16 candidates, totalling 48 fits\n"
          ]
        },
        {
          "output_type": "execute_result",
          "data": {
            "text/plain": [
              "GridSearchCV(cv=3, estimator=RandomForestClassifier(), n_jobs=-1,\n",
              "             param_grid={'max_depth': [80, 90, 100, 110],\n",
              "                         'n_estimators': [100, 200, 300, 1000]},\n",
              "             scoring='accuracy', verbose=2)"
            ]
          },
          "metadata": {},
          "execution_count": 111
        }
      ]
    },
    {
      "cell_type": "code",
      "metadata": {
        "colab": {
          "base_uri": "https://localhost:8080/",
          "height": 829
        },
        "id": "eORQxMFpJ-Uo",
        "outputId": "ac933fc5-5039-4832-deff-b0dff03a7664"
      },
      "source": [
        "pd.DataFrame(grid_search.cv_results_)"
      ],
      "execution_count": null,
      "outputs": [
        {
          "output_type": "execute_result",
          "data": {
            "text/html": [
              "<div>\n",
              "<style scoped>\n",
              "    .dataframe tbody tr th:only-of-type {\n",
              "        vertical-align: middle;\n",
              "    }\n",
              "\n",
              "    .dataframe tbody tr th {\n",
              "        vertical-align: top;\n",
              "    }\n",
              "\n",
              "    .dataframe thead th {\n",
              "        text-align: right;\n",
              "    }\n",
              "</style>\n",
              "<table border=\"1\" class=\"dataframe\">\n",
              "  <thead>\n",
              "    <tr style=\"text-align: right;\">\n",
              "      <th></th>\n",
              "      <th>mean_fit_time</th>\n",
              "      <th>std_fit_time</th>\n",
              "      <th>mean_score_time</th>\n",
              "      <th>std_score_time</th>\n",
              "      <th>param_max_depth</th>\n",
              "      <th>param_n_estimators</th>\n",
              "      <th>params</th>\n",
              "      <th>split0_test_score</th>\n",
              "      <th>split1_test_score</th>\n",
              "      <th>split2_test_score</th>\n",
              "      <th>mean_test_score</th>\n",
              "      <th>std_test_score</th>\n",
              "      <th>rank_test_score</th>\n",
              "    </tr>\n",
              "  </thead>\n",
              "  <tbody>\n",
              "    <tr>\n",
              "      <th>0</th>\n",
              "      <td>0.515416</td>\n",
              "      <td>0.006001</td>\n",
              "      <td>0.041566</td>\n",
              "      <td>0.002731</td>\n",
              "      <td>80</td>\n",
              "      <td>100</td>\n",
              "      <td>{'max_depth': 80, 'n_estimators': 100}</td>\n",
              "      <td>0.656130</td>\n",
              "      <td>0.633142</td>\n",
              "      <td>0.662835</td>\n",
              "      <td>0.650702</td>\n",
              "      <td>0.012715</td>\n",
              "      <td>1</td>\n",
              "    </tr>\n",
              "    <tr>\n",
              "      <th>1</th>\n",
              "      <td>1.007691</td>\n",
              "      <td>0.008992</td>\n",
              "      <td>0.078675</td>\n",
              "      <td>0.005392</td>\n",
              "      <td>80</td>\n",
              "      <td>200</td>\n",
              "      <td>{'max_depth': 80, 'n_estimators': 200}</td>\n",
              "      <td>0.654215</td>\n",
              "      <td>0.637931</td>\n",
              "      <td>0.658046</td>\n",
              "      <td>0.650064</td>\n",
              "      <td>0.008721</td>\n",
              "      <td>2</td>\n",
              "    </tr>\n",
              "    <tr>\n",
              "      <th>2</th>\n",
              "      <td>1.506586</td>\n",
              "      <td>0.017322</td>\n",
              "      <td>0.112373</td>\n",
              "      <td>0.002572</td>\n",
              "      <td>80</td>\n",
              "      <td>300</td>\n",
              "      <td>{'max_depth': 80, 'n_estimators': 300}</td>\n",
              "      <td>0.659004</td>\n",
              "      <td>0.635057</td>\n",
              "      <td>0.648467</td>\n",
              "      <td>0.647510</td>\n",
              "      <td>0.009799</td>\n",
              "      <td>3</td>\n",
              "    </tr>\n",
              "    <tr>\n",
              "      <th>3</th>\n",
              "      <td>5.004943</td>\n",
              "      <td>0.006619</td>\n",
              "      <td>0.383384</td>\n",
              "      <td>0.013174</td>\n",
              "      <td>80</td>\n",
              "      <td>1000</td>\n",
              "      <td>{'max_depth': 80, 'n_estimators': 1000}</td>\n",
              "      <td>0.645594</td>\n",
              "      <td>0.633142</td>\n",
              "      <td>0.649425</td>\n",
              "      <td>0.642720</td>\n",
              "      <td>0.006951</td>\n",
              "      <td>12</td>\n",
              "    </tr>\n",
              "    <tr>\n",
              "      <th>4</th>\n",
              "      <td>0.510724</td>\n",
              "      <td>0.012478</td>\n",
              "      <td>0.038600</td>\n",
              "      <td>0.000422</td>\n",
              "      <td>90</td>\n",
              "      <td>100</td>\n",
              "      <td>{'max_depth': 90, 'n_estimators': 100}</td>\n",
              "      <td>0.639847</td>\n",
              "      <td>0.635057</td>\n",
              "      <td>0.645594</td>\n",
              "      <td>0.640166</td>\n",
              "      <td>0.004307</td>\n",
              "      <td>15</td>\n",
              "    </tr>\n",
              "    <tr>\n",
              "      <th>5</th>\n",
              "      <td>1.009974</td>\n",
              "      <td>0.005826</td>\n",
              "      <td>0.074925</td>\n",
              "      <td>0.000182</td>\n",
              "      <td>90</td>\n",
              "      <td>200</td>\n",
              "      <td>{'max_depth': 90, 'n_estimators': 200}</td>\n",
              "      <td>0.651341</td>\n",
              "      <td>0.638889</td>\n",
              "      <td>0.652299</td>\n",
              "      <td>0.647510</td>\n",
              "      <td>0.006108</td>\n",
              "      <td>3</td>\n",
              "    </tr>\n",
              "    <tr>\n",
              "      <th>6</th>\n",
              "      <td>1.511946</td>\n",
              "      <td>0.004152</td>\n",
              "      <td>0.111753</td>\n",
              "      <td>0.000941</td>\n",
              "      <td>90</td>\n",
              "      <td>300</td>\n",
              "      <td>{'max_depth': 90, 'n_estimators': 300}</td>\n",
              "      <td>0.651341</td>\n",
              "      <td>0.635057</td>\n",
              "      <td>0.651341</td>\n",
              "      <td>0.645913</td>\n",
              "      <td>0.007676</td>\n",
              "      <td>9</td>\n",
              "    </tr>\n",
              "    <tr>\n",
              "      <th>7</th>\n",
              "      <td>5.055495</td>\n",
              "      <td>0.011610</td>\n",
              "      <td>0.368373</td>\n",
              "      <td>0.002577</td>\n",
              "      <td>90</td>\n",
              "      <td>1000</td>\n",
              "      <td>{'max_depth': 90, 'n_estimators': 1000}</td>\n",
              "      <td>0.652299</td>\n",
              "      <td>0.632184</td>\n",
              "      <td>0.654215</td>\n",
              "      <td>0.646232</td>\n",
              "      <td>0.009965</td>\n",
              "      <td>7</td>\n",
              "    </tr>\n",
              "    <tr>\n",
              "      <th>8</th>\n",
              "      <td>0.508344</td>\n",
              "      <td>0.011110</td>\n",
              "      <td>0.038665</td>\n",
              "      <td>0.000311</td>\n",
              "      <td>100</td>\n",
              "      <td>100</td>\n",
              "      <td>{'max_depth': 100, 'n_estimators': 100}</td>\n",
              "      <td>0.646552</td>\n",
              "      <td>0.625479</td>\n",
              "      <td>0.653257</td>\n",
              "      <td>0.641762</td>\n",
              "      <td>0.011835</td>\n",
              "      <td>14</td>\n",
              "    </tr>\n",
              "    <tr>\n",
              "      <th>9</th>\n",
              "      <td>1.002580</td>\n",
              "      <td>0.009026</td>\n",
              "      <td>0.075127</td>\n",
              "      <td>0.000334</td>\n",
              "      <td>100</td>\n",
              "      <td>200</td>\n",
              "      <td>{'max_depth': 100, 'n_estimators': 200}</td>\n",
              "      <td>0.656130</td>\n",
              "      <td>0.639847</td>\n",
              "      <td>0.645594</td>\n",
              "      <td>0.647190</td>\n",
              "      <td>0.006743</td>\n",
              "      <td>5</td>\n",
              "    </tr>\n",
              "    <tr>\n",
              "      <th>10</th>\n",
              "      <td>1.519471</td>\n",
              "      <td>0.016603</td>\n",
              "      <td>0.112593</td>\n",
              "      <td>0.002319</td>\n",
              "      <td>100</td>\n",
              "      <td>300</td>\n",
              "      <td>{'max_depth': 100, 'n_estimators': 300}</td>\n",
              "      <td>0.649425</td>\n",
              "      <td>0.626437</td>\n",
              "      <td>0.652299</td>\n",
              "      <td>0.642720</td>\n",
              "      <td>0.011574</td>\n",
              "      <td>12</td>\n",
              "    </tr>\n",
              "    <tr>\n",
              "      <th>11</th>\n",
              "      <td>5.017364</td>\n",
              "      <td>0.010422</td>\n",
              "      <td>0.370319</td>\n",
              "      <td>0.004871</td>\n",
              "      <td>100</td>\n",
              "      <td>1000</td>\n",
              "      <td>{'max_depth': 100, 'n_estimators': 1000}</td>\n",
              "      <td>0.656130</td>\n",
              "      <td>0.636015</td>\n",
              "      <td>0.647510</td>\n",
              "      <td>0.646552</td>\n",
              "      <td>0.008240</td>\n",
              "      <td>6</td>\n",
              "    </tr>\n",
              "    <tr>\n",
              "      <th>12</th>\n",
              "      <td>0.502245</td>\n",
              "      <td>0.004029</td>\n",
              "      <td>0.039031</td>\n",
              "      <td>0.000312</td>\n",
              "      <td>110</td>\n",
              "      <td>100</td>\n",
              "      <td>{'max_depth': 110, 'n_estimators': 100}</td>\n",
              "      <td>0.648467</td>\n",
              "      <td>0.632184</td>\n",
              "      <td>0.654215</td>\n",
              "      <td>0.644955</td>\n",
              "      <td>0.009331</td>\n",
              "      <td>10</td>\n",
              "    </tr>\n",
              "    <tr>\n",
              "      <th>13</th>\n",
              "      <td>1.003499</td>\n",
              "      <td>0.002091</td>\n",
              "      <td>0.075198</td>\n",
              "      <td>0.000756</td>\n",
              "      <td>110</td>\n",
              "      <td>200</td>\n",
              "      <td>{'max_depth': 110, 'n_estimators': 200}</td>\n",
              "      <td>0.643678</td>\n",
              "      <td>0.627395</td>\n",
              "      <td>0.646552</td>\n",
              "      <td>0.639208</td>\n",
              "      <td>0.008435</td>\n",
              "      <td>16</td>\n",
              "    </tr>\n",
              "    <tr>\n",
              "      <th>14</th>\n",
              "      <td>1.503593</td>\n",
              "      <td>0.007957</td>\n",
              "      <td>0.112707</td>\n",
              "      <td>0.001666</td>\n",
              "      <td>110</td>\n",
              "      <td>300</td>\n",
              "      <td>{'max_depth': 110, 'n_estimators': 300}</td>\n",
              "      <td>0.653257</td>\n",
              "      <td>0.630268</td>\n",
              "      <td>0.645594</td>\n",
              "      <td>0.643040</td>\n",
              "      <td>0.009557</td>\n",
              "      <td>11</td>\n",
              "    </tr>\n",
              "    <tr>\n",
              "      <th>15</th>\n",
              "      <td>4.563505</td>\n",
              "      <td>0.655869</td>\n",
              "      <td>0.330573</td>\n",
              "      <td>0.059279</td>\n",
              "      <td>110</td>\n",
              "      <td>1000</td>\n",
              "      <td>{'max_depth': 110, 'n_estimators': 1000}</td>\n",
              "      <td>0.653257</td>\n",
              "      <td>0.630268</td>\n",
              "      <td>0.655172</td>\n",
              "      <td>0.646232</td>\n",
              "      <td>0.011315</td>\n",
              "      <td>7</td>\n",
              "    </tr>\n",
              "  </tbody>\n",
              "</table>\n",
              "</div>"
            ],
            "text/plain": [
              "    mean_fit_time  std_fit_time  ...  std_test_score  rank_test_score\n",
              "0        0.515416      0.006001  ...        0.012715                1\n",
              "1        1.007691      0.008992  ...        0.008721                2\n",
              "2        1.506586      0.017322  ...        0.009799                3\n",
              "3        5.004943      0.006619  ...        0.006951               12\n",
              "4        0.510724      0.012478  ...        0.004307               15\n",
              "5        1.009974      0.005826  ...        0.006108                3\n",
              "6        1.511946      0.004152  ...        0.007676                9\n",
              "7        5.055495      0.011610  ...        0.009965                7\n",
              "8        0.508344      0.011110  ...        0.011835               14\n",
              "9        1.002580      0.009026  ...        0.006743                5\n",
              "10       1.519471      0.016603  ...        0.011574               12\n",
              "11       5.017364      0.010422  ...        0.008240                6\n",
              "12       0.502245      0.004029  ...        0.009331               10\n",
              "13       1.003499      0.002091  ...        0.008435               16\n",
              "14       1.503593      0.007957  ...        0.009557               11\n",
              "15       4.563505      0.655869  ...        0.011315                7\n",
              "\n",
              "[16 rows x 13 columns]"
            ]
          },
          "metadata": {},
          "execution_count": 112
        }
      ]
    },
    {
      "cell_type": "code",
      "metadata": {
        "colab": {
          "base_uri": "https://localhost:8080/"
        },
        "id": "9yQOjdtYK0cI",
        "outputId": "28c96161-f80b-42ed-de23-4da478f70de5"
      },
      "source": [
        "grid_search.best_estimator_"
      ],
      "execution_count": null,
      "outputs": [
        {
          "output_type": "execute_result",
          "data": {
            "text/plain": [
              "RandomForestClassifier(max_depth=80)"
            ]
          },
          "metadata": {},
          "execution_count": 113
        }
      ]
    },
    {
      "cell_type": "code",
      "metadata": {
        "colab": {
          "base_uri": "https://localhost:8080/"
        },
        "id": "YkvHgnLPLO3E",
        "outputId": "c8ac2a31-158e-426f-948d-ec4c543ceae2"
      },
      "source": [
        "rf = RandomForestClassifier(max_depth=110, n_estimators=1000)\n",
        "rf.fit(x_train, y_train)\n",
        "res_rf = rf.predict(x_test)\n",
        "print(metrics.classification_report(y_test, res_rf))"
      ],
      "execution_count": null,
      "outputs": [
        {
          "output_type": "stream",
          "name": "stdout",
          "text": [
            "              precision    recall  f1-score   support\n",
            "\n",
            "           1       0.73      0.72      0.72       337\n",
            "           2       0.54      0.49      0.51       352\n",
            "           3       0.66      0.72      0.69       345\n",
            "\n",
            "    accuracy                           0.64      1034\n",
            "   macro avg       0.64      0.64      0.64      1034\n",
            "weighted avg       0.64      0.64      0.64      1034\n",
            "\n"
          ]
        }
      ]
    },
    {
      "cell_type": "code",
      "metadata": {
        "id": "jptn0Ybj0Uq6",
        "colab": {
          "base_uri": "https://localhost:8080/",
          "height": 424
        },
        "outputId": "e23d195b-3caa-49f9-c59f-72d6d282a752"
      },
      "source": [
        "df_t = pd.read_csv('/content/abalone_app.csv')\n",
        "df_t.drop('length', axis=1, inplace=True)\n",
        "df_t"
      ],
      "execution_count": null,
      "outputs": [
        {
          "output_type": "execute_result",
          "data": {
            "text/html": [
              "<div>\n",
              "<style scoped>\n",
              "    .dataframe tbody tr th:only-of-type {\n",
              "        vertical-align: middle;\n",
              "    }\n",
              "\n",
              "    .dataframe tbody tr th {\n",
              "        vertical-align: top;\n",
              "    }\n",
              "\n",
              "    .dataframe thead th {\n",
              "        text-align: right;\n",
              "    }\n",
              "</style>\n",
              "<table border=\"1\" class=\"dataframe\">\n",
              "  <thead>\n",
              "    <tr style=\"text-align: right;\">\n",
              "      <th></th>\n",
              "      <th>sex</th>\n",
              "      <th>diameter</th>\n",
              "      <th>height</th>\n",
              "      <th>whole_weight</th>\n",
              "      <th>shucked_weight</th>\n",
              "      <th>viscera_weight</th>\n",
              "      <th>shell_weight</th>\n",
              "    </tr>\n",
              "  </thead>\n",
              "  <tbody>\n",
              "    <tr>\n",
              "      <th>0</th>\n",
              "      <td>M</td>\n",
              "      <td>0.480</td>\n",
              "      <td>0.175</td>\n",
              "      <td>1.2290</td>\n",
              "      <td>0.4125</td>\n",
              "      <td>0.2735</td>\n",
              "      <td>0.4150</td>\n",
              "    </tr>\n",
              "    <tr>\n",
              "      <th>1</th>\n",
              "      <td>F</td>\n",
              "      <td>0.385</td>\n",
              "      <td>0.150</td>\n",
              "      <td>1.1185</td>\n",
              "      <td>0.5425</td>\n",
              "      <td>0.2445</td>\n",
              "      <td>0.2845</td>\n",
              "    </tr>\n",
              "    <tr>\n",
              "      <th>2</th>\n",
              "      <td>F</td>\n",
              "      <td>0.520</td>\n",
              "      <td>0.180</td>\n",
              "      <td>1.2850</td>\n",
              "      <td>0.5775</td>\n",
              "      <td>0.3520</td>\n",
              "      <td>0.3170</td>\n",
              "    </tr>\n",
              "    <tr>\n",
              "      <th>3</th>\n",
              "      <td>M</td>\n",
              "      <td>0.510</td>\n",
              "      <td>0.170</td>\n",
              "      <td>1.3715</td>\n",
              "      <td>0.5670</td>\n",
              "      <td>0.3070</td>\n",
              "      <td>0.4090</td>\n",
              "    </tr>\n",
              "    <tr>\n",
              "      <th>4</th>\n",
              "      <td>F</td>\n",
              "      <td>0.540</td>\n",
              "      <td>0.215</td>\n",
              "      <td>1.5555</td>\n",
              "      <td>0.6950</td>\n",
              "      <td>0.2960</td>\n",
              "      <td>0.4440</td>\n",
              "    </tr>\n",
              "    <tr>\n",
              "      <th>...</th>\n",
              "      <td>...</td>\n",
              "      <td>...</td>\n",
              "      <td>...</td>\n",
              "      <td>...</td>\n",
              "      <td>...</td>\n",
              "      <td>...</td>\n",
              "      <td>...</td>\n",
              "    </tr>\n",
              "    <tr>\n",
              "      <th>1040</th>\n",
              "      <td>I</td>\n",
              "      <td>0.350</td>\n",
              "      <td>0.105</td>\n",
              "      <td>0.3660</td>\n",
              "      <td>0.1705</td>\n",
              "      <td>0.0855</td>\n",
              "      <td>0.1100</td>\n",
              "    </tr>\n",
              "    <tr>\n",
              "      <th>1041</th>\n",
              "      <td>F</td>\n",
              "      <td>0.360</td>\n",
              "      <td>0.125</td>\n",
              "      <td>0.4470</td>\n",
              "      <td>0.1695</td>\n",
              "      <td>0.0810</td>\n",
              "      <td>0.1400</td>\n",
              "    </tr>\n",
              "    <tr>\n",
              "      <th>1042</th>\n",
              "      <td>F</td>\n",
              "      <td>0.405</td>\n",
              "      <td>0.150</td>\n",
              "      <td>0.5965</td>\n",
              "      <td>0.2530</td>\n",
              "      <td>0.1260</td>\n",
              "      <td>0.1850</td>\n",
              "    </tr>\n",
              "    <tr>\n",
              "      <th>1043</th>\n",
              "      <td>I</td>\n",
              "      <td>0.275</td>\n",
              "      <td>0.095</td>\n",
              "      <td>0.2425</td>\n",
              "      <td>0.1060</td>\n",
              "      <td>0.0485</td>\n",
              "      <td>0.2100</td>\n",
              "    </tr>\n",
              "    <tr>\n",
              "      <th>1044</th>\n",
              "      <td>M</td>\n",
              "      <td>0.475</td>\n",
              "      <td>0.165</td>\n",
              "      <td>1.0770</td>\n",
              "      <td>0.4545</td>\n",
              "      <td>0.2440</td>\n",
              "      <td>0.3095</td>\n",
              "    </tr>\n",
              "  </tbody>\n",
              "</table>\n",
              "<p>1045 rows × 7 columns</p>\n",
              "</div>"
            ],
            "text/plain": [
              "     sex  diameter  height  ...  shucked_weight  viscera_weight  shell_weight\n",
              "0      M     0.480   0.175  ...          0.4125          0.2735        0.4150\n",
              "1      F     0.385   0.150  ...          0.5425          0.2445        0.2845\n",
              "2      F     0.520   0.180  ...          0.5775          0.3520        0.3170\n",
              "3      M     0.510   0.170  ...          0.5670          0.3070        0.4090\n",
              "4      F     0.540   0.215  ...          0.6950          0.2960        0.4440\n",
              "...   ..       ...     ...  ...             ...             ...           ...\n",
              "1040   I     0.350   0.105  ...          0.1705          0.0855        0.1100\n",
              "1041   F     0.360   0.125  ...          0.1695          0.0810        0.1400\n",
              "1042   F     0.405   0.150  ...          0.2530          0.1260        0.1850\n",
              "1043   I     0.275   0.095  ...          0.1060          0.0485        0.2100\n",
              "1044   M     0.475   0.165  ...          0.4545          0.2440        0.3095\n",
              "\n",
              "[1045 rows x 7 columns]"
            ]
          },
          "metadata": {},
          "execution_count": 115
        }
      ]
    },
    {
      "cell_type": "code",
      "metadata": {
        "colab": {
          "base_uri": "https://localhost:8080/"
        },
        "id": "n8nIkWT4AJFd",
        "outputId": "6470c12e-6566-4a72-cd90-15951988416d"
      },
      "source": [
        "df_t['sex'] = df_t['sex'].replace('M', 1)\n",
        "df_t['sex'] = df_t['sex'].replace('F', 2)\n",
        "df_t['sex'] = df_t['sex'].replace('I', 3)\n",
        "df_t['sex'].unique()"
      ],
      "execution_count": null,
      "outputs": [
        {
          "output_type": "execute_result",
          "data": {
            "text/plain": [
              "array([1, 2, 3])"
            ]
          },
          "metadata": {},
          "execution_count": 116
        }
      ]
    },
    {
      "cell_type": "code",
      "metadata": {
        "id": "eLghOFAIY_wg",
        "colab": {
          "base_uri": "https://localhost:8080/",
          "height": 35
        },
        "outputId": "59dd1e6e-21c1-4673-b070-1963f181b09d"
      },
      "source": [
        "\"\"\"knn = KNeighborsClassifier(n_neighbors=23,metric='manhattan')\n",
        "knn.fit(df_teste, target)\n",
        "y_pred = knn.predict(df_t)\"\"\""
      ],
      "execution_count": null,
      "outputs": [
        {
          "output_type": "execute_result",
          "data": {
            "application/vnd.google.colaboratory.intrinsic+json": {
              "type": "string"
            },
            "text/plain": [
              "\"knn = KNeighborsClassifier(n_neighbors=23,metric='manhattan')\\nknn.fit(df_teste, target)\\ny_pred = knn.predict(df_t)\""
            ]
          },
          "metadata": {},
          "execution_count": 117
        }
      ]
    },
    {
      "cell_type": "code",
      "metadata": {
        "id": "Z_t5duMncEqY"
      },
      "source": [
        "rf = RandomForestClassifier(max_depth=90, n_estimators=200)\n",
        "rf.fit(df_teste, target)\n",
        "y_pred = rf.predict(df_t)"
      ],
      "execution_count": null,
      "outputs": []
    },
    {
      "cell_type": "code",
      "metadata": {
        "id": "wO0WDhwXLPKH"
      },
      "source": [
        "rf = RandomForestClassifier(os melhores parametros)\n",
        "rf.fit(copy_X, copy_y)\n",
        "y_pred = rf.predict(data_app)"
      ],
      "execution_count": null,
      "outputs": []
    },
    {
      "cell_type": "code",
      "metadata": {
        "id": "LrCplHQWSEHX",
        "colab": {
          "base_uri": "https://localhost:8080/",
          "height": 70
        },
        "outputId": "fe6637f2-939b-4974-9f4f-b157976fed8b"
      },
      "source": [
        "'''# Enviando previsões realizadas com o modelo para o servidor\n",
        "URL = \"https://aydanomachado.com/mlclass/03_Validation.php\"\n",
        "\n",
        "#TODO Substituir pela sua chave aqui\n",
        "DEV_KEY = \"Error 404\"\n",
        "\n",
        "# json para ser enviado para o servidor\n",
        "data = {'dev_key':DEV_KEY,\n",
        "        'predictions':pd.Series(y_pred).to_json(orient='values')}\n",
        "\n",
        "# Enviando requisição e salvando o objeto resposta\n",
        "r = requests.post(url = URL, data = data)\n",
        "\n",
        "# Extraindo e imprimindo o texto da resposta\n",
        "pastebin_url = r.text\n",
        "print(\" - Resposta do servidor:\\n\", r.text, \"\\n\")'''"
      ],
      "execution_count": null,
      "outputs": [
        {
          "output_type": "execute_result",
          "data": {
            "application/vnd.google.colaboratory.intrinsic+json": {
              "type": "string"
            },
            "text/plain": [
              "'# Enviando previsões realizadas com o modelo para o servidor\\nURL = \"https://aydanomachado.com/mlclass/03_Validation.php\"\\n\\n#TODO Substituir pela sua chave aqui\\nDEV_KEY = \"Error 404\"\\n\\n# json para ser enviado para o servidor\\ndata = {\\'dev_key\\':DEV_KEY,\\n        \\'predictions\\':pd.Series(y_pred).to_json(orient=\\'values\\')}\\n\\n# Enviando requisição e salvando o objeto resposta\\nr = requests.post(url = URL, data = data)\\n\\n# Extraindo e imprimindo o texto da resposta\\npastebin_url = r.text\\nprint(\" - Resposta do servidor:\\n\", r.text, \"\\n\")'"
            ]
          },
          "metadata": {},
          "execution_count": 119
        }
      ]
    }
  ]
}